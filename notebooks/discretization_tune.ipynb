{
 "cells": [
  {
   "cell_type": "code",
   "execution_count": 1,
   "metadata": {},
   "outputs": [],
   "source": [
    "import pandas as pd\n",
    "\n",
    "from src.data.metrics import get_metrics"
   ]
  },
  {
   "cell_type": "code",
   "execution_count": 2,
   "metadata": {},
   "outputs": [],
   "source": [
    "hparams = [\"model_cls\", \"loc_levels\", \"grow_factor\", \"discretization_rows\", 'discretization_shape', 'embedding_type', 'embedding_weight_factor']\n",
    "metrics = [\n",
    "    \"macro_f1\",\n",
    "    \"top_5_accuracy\",\n",
    "    \"top_1_accuracy\",\n",
    "]"
   ]
  },
  {
   "cell_type": "code",
   "execution_count": 8,
   "metadata": {},
   "outputs": [],
   "source": [
    "df = pd.read_json(\"../reports/discretization_grid_tune_new.jsonl\", lines=True)\n",
    "get_metrics(df, metrics)"
   ]
  },
  {
   "cell_type": "code",
   "execution_count": 10,
   "metadata": {},
   "outputs": [
    {
     "data": {
      "text/html": [
       "<div>\n",
       "<style scoped>\n",
       "    .dataframe tbody tr th:only-of-type {\n",
       "        vertical-align: middle;\n",
       "    }\n",
       "\n",
       "    .dataframe tbody tr th {\n",
       "        vertical-align: top;\n",
       "    }\n",
       "\n",
       "    .dataframe thead th {\n",
       "        text-align: right;\n",
       "    }\n",
       "</style>\n",
       "<table border=\"1\" class=\"dataframe\">\n",
       "  <thead>\n",
       "    <tr style=\"text-align: right;\">\n",
       "      <th></th>\n",
       "      <th>loc_levels</th>\n",
       "      <th>grow_factor</th>\n",
       "      <th>discretization_rows</th>\n",
       "      <th>embedding_type</th>\n",
       "      <th>embedding_weight_factor</th>\n",
       "      <th>macro_f1</th>\n",
       "      <th>top_5_accuracy</th>\n",
       "      <th>top_1_accuracy</th>\n",
       "      <th>criterion</th>\n",
       "    </tr>\n",
       "  </thead>\n",
       "  <tbody>\n",
       "    <tr>\n",
       "      <th>33</th>\n",
       "      <td>4</td>\n",
       "      <td>2</td>\n",
       "      <td>200</td>\n",
       "      <td>lookup_weighted_concat</td>\n",
       "      <td>2</td>\n",
       "      <td>0.536274</td>\n",
       "      <td>0.7132</td>\n",
       "      <td>0.593</td>\n",
       "      <td>0.6531</td>\n",
       "    </tr>\n",
       "  </tbody>\n",
       "</table>\n",
       "</div>"
      ],
      "text/plain": [
       "    loc_levels  grow_factor  discretization_rows          embedding_type  \\\n",
       "33           4            2                  200  lookup_weighted_concat   \n",
       "\n",
       "    embedding_weight_factor  macro_f1  top_5_accuracy  top_1_accuracy  \\\n",
       "33                        2  0.536274          0.7132           0.593   \n",
       "\n",
       "    criterion  \n",
       "33     0.6531  "
      ]
     },
     "execution_count": 10,
     "metadata": {},
     "output_type": "execute_result"
    }
   ],
   "source": [
    "df[\"criterion\"] = (\n",
    "     (0.5 * df[\"top_1_accuracy\"] + .5* df[\"top_5_accuracy\"]) \n",
    ")\n",
    "df2 = df\n",
    "hparams = [\n",
    "    # 'model_cls',\n",
    "    \"loc_levels\",\n",
    "    \"grow_factor\",\n",
    "    \"discretization_rows\",\n",
    "    \"embedding_type\",\n",
    "    \"embedding_weight_factor\",\n",
    "]\n",
    "df_mean = df2.groupby(hparams)[metrics + [\"criterion\"]].mean().reset_index()\n",
    "idcs_max = df_mean.groupby([\"embedding_type\"])[\"top_1_accuracy\"].idxmax()\n",
    "\n",
    "df_mean.loc[idcs_max][hparams + metrics + [\"criterion\"]]"
   ]
  }
 ],
 "metadata": {
  "kernelspec": {
   "display_name": ".venv",
   "language": "python",
   "name": "python3"
  },
  "language_info": {
   "codemirror_mode": {
    "name": "ipython",
    "version": 3
   },
   "file_extension": ".py",
   "mimetype": "text/x-python",
   "name": "python",
   "nbconvert_exporter": "python",
   "pygments_lexer": "ipython3",
   "version": "3.12.7"
  }
 },
 "nbformat": 4,
 "nbformat_minor": 2
}
