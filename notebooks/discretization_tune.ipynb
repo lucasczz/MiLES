{
 "cells": [
  {
   "cell_type": "code",
   "execution_count": 1,
   "metadata": {},
   "outputs": [],
   "source": [
    "import pandas as pd\n",
    "\n",
    "from src.data.metrics import get_metrics"
   ]
  },
  {
   "cell_type": "code",
   "execution_count": 2,
   "metadata": {},
   "outputs": [],
   "source": [
    "hparams = [\"model_cls\", \"loc_levels\", \"grow_factor\", \"discretization_rows\", 'discretization_shape', 'embedding_type', 'embedding_weight_factor']\n",
    "metrics = [\n",
    "    \"macro_f1\",\n",
    "    \"top_5_accuracy\",\n",
    "    \"top_1_accuracy\",\n",
    "]"
   ]
  },
  {
   "cell_type": "code",
   "execution_count": 11,
   "metadata": {},
   "outputs": [],
   "source": [
    "df = pd.read_json(\"../reports/discretization_grid_tune_new.jsonl\", lines=True)\n",
    "get_metrics(df, metrics)"
   ]
  },
  {
   "cell_type": "code",
   "execution_count": 12,
   "metadata": {},
   "outputs": [
    {
     "data": {
      "text/html": [
       "<div>\n",
       "<style scoped>\n",
       "    .dataframe tbody tr th:only-of-type {\n",
       "        vertical-align: middle;\n",
       "    }\n",
       "\n",
       "    .dataframe tbody tr th {\n",
       "        vertical-align: top;\n",
       "    }\n",
       "\n",
       "    .dataframe thead th {\n",
       "        text-align: right;\n",
       "    }\n",
       "</style>\n",
       "<table border=\"1\" class=\"dataframe\">\n",
       "  <thead>\n",
       "    <tr style=\"text-align: right;\">\n",
       "      <th></th>\n",
       "      <th>loc_levels</th>\n",
       "      <th>grow_factor</th>\n",
       "      <th>discretization_rows</th>\n",
       "      <th>embedding_type</th>\n",
       "      <th>embedding_weight_factor</th>\n",
       "      <th>macro_f1</th>\n",
       "      <th>top_5_accuracy</th>\n",
       "      <th>top_1_accuracy</th>\n",
       "      <th>criterion</th>\n",
       "    </tr>\n",
       "  </thead>\n",
       "  <tbody>\n",
       "    <tr>\n",
       "      <th>97</th>\n",
       "      <td>4</td>\n",
       "      <td>4</td>\n",
       "      <td>500</td>\n",
       "      <td>lookup_concat</td>\n",
       "      <td>1.0</td>\n",
       "      <td>0.477740</td>\n",
       "      <td>0.6804</td>\n",
       "      <td>0.5348</td>\n",
       "      <td>0.6076</td>\n",
       "    </tr>\n",
       "    <tr>\n",
       "      <th>6</th>\n",
       "      <td>2</td>\n",
       "      <td>2</td>\n",
       "      <td>200</td>\n",
       "      <td>lookup_sum</td>\n",
       "      <td>1.0</td>\n",
       "      <td>0.442953</td>\n",
       "      <td>0.6250</td>\n",
       "      <td>0.5000</td>\n",
       "      <td>0.5625</td>\n",
       "    </tr>\n",
       "  </tbody>\n",
       "</table>\n",
       "</div>"
      ],
      "text/plain": [
       "    loc_levels  grow_factor  discretization_rows embedding_type  \\\n",
       "97           4            4                  500  lookup_concat   \n",
       "6            2            2                  200     lookup_sum   \n",
       "\n",
       "    embedding_weight_factor  macro_f1  top_5_accuracy  top_1_accuracy  \\\n",
       "97                      1.0  0.477740          0.6804          0.5348   \n",
       "6                       1.0  0.442953          0.6250          0.5000   \n",
       "\n",
       "    criterion  \n",
       "97     0.6076  \n",
       "6      0.5625  "
      ]
     },
     "execution_count": 12,
     "metadata": {},
     "output_type": "execute_result"
    }
   ],
   "source": [
    "df[\"criterion\"] = (\n",
    "     (0.5 * df[\"top_1_accuracy\"] + .5* df[\"top_5_accuracy\"]) \n",
    ")\n",
    "hparams = [\n",
    "    # 'model_cls',\n",
    "    \"loc_levels\",\n",
    "    \"grow_factor\",\n",
    "    \"discretization_rows\",\n",
    "    \"embedding_type\",\n",
    "    \"embedding_weight_factor\",\n",
    "]\n",
    "df_mean = df.groupby(hparams)[metrics + [\"criterion\"]].mean().reset_index()\n",
    "idcs_max = df_mean.groupby([\"embedding_type\"])[\"criterion\"].idxmax()\n",
    "\n",
    "df_mean.loc[idcs_max][hparams + metrics + [\"criterion\"]]"
   ]
  }
 ],
 "metadata": {
  "kernelspec": {
   "display_name": ".venv",
   "language": "python",
   "name": "python3"
  },
  "language_info": {
   "codemirror_mode": {
    "name": "ipython",
    "version": 3
   },
   "file_extension": ".py",
   "mimetype": "text/x-python",
   "name": "python",
   "nbconvert_exporter": "python",
   "pygments_lexer": "ipython3",
   "version": "3.12.7"
  }
 },
 "nbformat": 4,
 "nbformat_minor": 2
}
