{
 "cells": [
  {
   "cell_type": "code",
   "execution_count": 1,
   "metadata": {},
   "outputs": [],
   "source": [
    "import pandas as pd\n",
    "import matplotlib.pyplot as plt\n",
    "import numpy as np\n",
    "from src.data.metrics import get_metrics"
   ]
  },
  {
   "cell_type": "code",
   "execution_count": 84,
   "metadata": {},
   "outputs": [],
   "source": [
    "df = pd.read_json(\"../reports/ablation_all.jsonl\", lines=True, orient='records')\n",
    "metrics = ['top_5_accuracy', 'top_1_accuracy']\n",
    "get_metrics(df, metrics)\n",
    "df['loc_level'] = df['loc_level'].fillna(\"all\")"
   ]
  },
  {
   "cell_type": "code",
   "execution_count": 85,
   "metadata": {},
   "outputs": [],
   "source": [
    "metrics = ['top_5_accuracy', 'top_1_accuracy']\n",
    "dfp = df[df['model_cls'] == 'BiTULER']\n",
    "dfm = dfp.groupby(['loc_level', 'dataset', 'model_cls'])[metrics].agg(['mean', 'std']).reset_index()"
   ]
  },
  {
   "cell_type": "code",
   "execution_count": 86,
   "metadata": {},
   "outputs": [
    {
     "data": {
      "image/png": "[encoded data removed]",
      "text/plain": [
       "<Figure size 600x400 with 1 Axes>"
      ]
     },
     "metadata": {},
     "output_type": "display_data"
    }
   ],
   "source": [
    "metric = \"top_5_accuracy\"\n",
    "# Extract necessary data\n",
    "datasets = dfm[\"dataset\"].unique()\n",
    "configs = [\n",
    "    {\n",
    "        \"loc_level\": level,\n",
    "        \"embedding_weight_factor\": 2,\n",
    "        \"embedding_type\": \"lookup_weighted_concat\",\n",
    "    }\n",
    "    for level in range(-1, -5, 1)\n",
    "]\n",
    "configs += [\n",
    "    {\n",
    "        \"loc_level\": \"all\",\n",
    "        \"embedding_weight_factor\": factor,\n",
    "        \"embedding_type\": \"lookup_weighted_concat\",\n",
    "    }\n",
    "    for factor in [1, 2]\n",
    "]\n",
    "configs += [\n",
    "    {\n",
    "        \"loc_level\": \"all\",\n",
    "        \"embedding_weight_factor\": 2,\n",
    "        \"embedding_type\": \"lookup_concat\",\n",
    "    }\n",
    "]\n",
    "# TODO: use configs for filtering dataframe\n",
    "\n",
    "loc_levels = dfm[\"loc_level\"].unique()\n",
    "\n",
    "# Create bar plot data\n",
    "bar_width = 0.1\n",
    "x = np.arange(len(datasets))\n",
    "\n",
    "fig, ax = plt.subplots(figsize=(6, 4))\n",
    "\n",
    "for i, config in enumerate(configs):\n",
    "    subset = dfm[\n",
    "        (dfm[\"loc_level\"] == config[\"loc_level\"])\n",
    "        & (dfm[\"embedding_weight_factor\"] == config[\"embedding_weight_factor\"])\n",
    "        & (dfm[\"embedding_type\"] == config[\"embedding_type\"])\n",
    "    ]\n",
    "    means = subset[metric][\"mean\"]\n",
    "    stds = subset[metric][\"std\"]\n",
    "\n",
    "    # Plot bars with error bars\n",
    "    ax.bar(\n",
    "        x + i * bar_width,\n",
    "        means,\n",
    "        bar_width,\n",
    "        yerr=stds,\n",
    "        label=\"TODO: fill label\",\n",
    "        capsize=5,\n",
    "    )\n",
    "\n",
    "# Customize the plot\n",
    "pad = 0.05\n",
    "ax.set_ylim([dfm[metric][\"mean\"].min() - pad, dfm[metric][\"mean\"].max() + pad])\n",
    "ax.set_ylabel(\"Acc@5\")\n",
    "ax.set_xticks(x + (bar_width * (len(loc_levels) - 1) / 2))\n",
    "ax.set_xticklabels(datasets)\n",
    "ax.legend(title=\"Loc Level\")\n",
    "\n",
    "plt.tight_layout()"
   ]
  },
  {
   "cell_type": "code",
   "execution_count": 75,
   "metadata": {},
   "outputs": [
    {
     "data": {
      "text/plain": [
       "array([1.   , 0.5  , 0.25 , 0.125])"
      ]
     },
     "execution_count": 75,
     "metadata": {},
     "output_type": "execute_result"
    }
   ],
   "source": [
    "np.logspace(0, -3, 4, base=2)"
   ]
  },
  {
   "cell_type": "code",
   "execution_count": 76,
   "metadata": {},
   "outputs": [
    {
     "data": {
      "text/plain": [
       "[1, 0.5, 0.25, 0.125]"
      ]
     },
     "execution_count": 76,
     "metadata": {},
     "output_type": "execute_result"
    }
   ],
   "source": [
    "[2 ** -i for i in [0, 1, 2 , 3]]"
   ]
  }
 ],
 "metadata": {
  "kernelspec": {
   "display_name": ".venv",
   "language": "python",
   "name": "python3"
  },
  "language_info": {
   "codemirror_mode": {
    "name": "ipython",
    "version": 3
   },
   "file_extension": ".py",
   "mimetype": "text/x-python",
   "name": "python",
   "nbconvert_exporter": "python",
   "pygments_lexer": "ipython3",
   "version": "3.12.7"
  }
 },
 "nbformat": 4,
 "nbformat_minor": 2
}
