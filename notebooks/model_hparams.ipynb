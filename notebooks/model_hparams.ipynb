{
 "cells": [
  {
   "cell_type": "code",
   "execution_count": 1,
   "metadata": {},
   "outputs": [],
   "source": [
    "import pandas as pd\n",
    "from src.data.metrics import get_metrics"
   ]
  },
  {
   "cell_type": "code",
   "execution_count": 2,
   "metadata": {},
   "outputs": [],
   "source": [
    "hparams = [\n",
    "    \"model_cls\",\n",
    "    \"lr\",\n",
    "    \"n_hidden\",\n",
    "    \"n_layers\",\n",
    "    \"embedding_type\",\n",
    "    \"loc_levels\",\n",
    "    \"time_levels\",\n",
    "    \"time_embedding_factor\",\n",
    "    \"dropout\",\n",
    "    \"n_heads\",\n",
    "    \"lambduh\",\n",
    "]\n",
    "metrics = [\n",
    "    \"macro_precision\",\n",
    "    \"macro_recall\",\n",
    "    \"macro_f1\",\n",
    "    \"top_5_accuracy\",\n",
    "    \"top_1_accuracy\",\n",
    "]"
   ]
  },
  {
   "cell_type": "code",
   "execution_count": 3,
   "metadata": {},
   "outputs": [],
   "source": [
    "models = [\n",
    "    \"deeptul\",\n",
    "    \"maintul\",\n",
    "    \"t3s\",\n",
    "    \"bituler\",\n",
    "    \"tulvae\",\n",
    "    \"tulhor\",\n",
    "]\n",
    "df =pd.concat([pd.read_json(f\"../reports/{model}_grid.jsonl\", lines=True) for model in models])\n",
    "# df = df.fillna(0)"
   ]
  },
  {
   "cell_type": "code",
   "execution_count": 4,
   "metadata": {},
   "outputs": [],
   "source": [
    "df.to_json(\"../reports/hparam_grid.jsonl\", orient=\"records\", lines=True, index=False)"
   ]
  },
  {
   "cell_type": "code",
   "execution_count": null,
   "metadata": {},
   "outputs": [],
   "source": [
    "df = pd.read_json(\"../reports/hparam_grid.jsonl\", lines=True)"
   ]
  },
  {
   "cell_type": "code",
   "execution_count": 8,
   "metadata": {},
   "outputs": [
    {
     "data": {
      "text/plain": [
       "array(['DeepTUL', 'MainTUL', 'T3S', 'BiTULER', 'TULVAE', 'TULHOR'],\n",
       "      dtype=object)"
      ]
     },
     "execution_count": 8,
     "metadata": {},
     "output_type": "execute_result"
    }
   ],
   "source": [
    "df['model_cls'].unique()"
   ]
  },
  {
   "cell_type": "code",
   "execution_count": 13,
   "metadata": {},
   "outputs": [],
   "source": [
    "get_metrics(df)\n",
    "df = df.reset_index(drop=True)"
   ]
  },
  {
   "cell_type": "code",
   "execution_count": 17,
   "metadata": {},
   "outputs": [
    {
     "data": {
      "text/html": [
       "<div>\n",
       "<style scoped>\n",
       "    .dataframe tbody tr th:only-of-type {\n",
       "        vertical-align: middle;\n",
       "    }\n",
       "\n",
       "    .dataframe tbody tr th {\n",
       "        vertical-align: top;\n",
       "    }\n",
       "\n",
       "    .dataframe thead th {\n",
       "        text-align: right;\n",
       "    }\n",
       "</style>\n",
       "<table border=\"1\" class=\"dataframe\">\n",
       "  <thead>\n",
       "    <tr style=\"text-align: right;\">\n",
       "      <th></th>\n",
       "      <th>model_cls</th>\n",
       "      <th>lr</th>\n",
       "      <th>n_hidden</th>\n",
       "      <th>n_layers</th>\n",
       "      <th>embedding_type</th>\n",
       "      <th>loc_levels</th>\n",
       "      <th>time_levels</th>\n",
       "      <th>time_embedding_factor</th>\n",
       "      <th>dropout</th>\n",
       "      <th>n_heads</th>\n",
       "      <th>lambduh</th>\n",
       "    </tr>\n",
       "  </thead>\n",
       "  <tbody>\n",
       "    <tr>\n",
       "      <th>1348</th>\n",
       "      <td>BiTULER</td>\n",
       "      <td>0.0002</td>\n",
       "      <td>1024</td>\n",
       "      <td>1</td>\n",
       "      <td>lookup</td>\n",
       "      <td>1</td>\n",
       "      <td>1</td>\n",
       "      <td>0.0625</td>\n",
       "      <td>0.0</td>\n",
       "      <td>0.0</td>\n",
       "      <td>0.0</td>\n",
       "    </tr>\n",
       "    <tr>\n",
       "      <th>214</th>\n",
       "      <td>DeepTUL</td>\n",
       "      <td>0.0002</td>\n",
       "      <td>1024</td>\n",
       "      <td>1</td>\n",
       "      <td>lookup</td>\n",
       "      <td>1</td>\n",
       "      <td>1</td>\n",
       "      <td>0.0625</td>\n",
       "      <td>0.0</td>\n",
       "      <td>0.0</td>\n",
       "      <td>0.0</td>\n",
       "    </tr>\n",
       "    <tr>\n",
       "      <th>670</th>\n",
       "      <td>MainTUL</td>\n",
       "      <td>0.0002</td>\n",
       "      <td>1024</td>\n",
       "      <td>1</td>\n",
       "      <td>lookup</td>\n",
       "      <td>1</td>\n",
       "      <td>1</td>\n",
       "      <td>0.0625</td>\n",
       "      <td>0.0</td>\n",
       "      <td>16.0</td>\n",
       "      <td>2.0</td>\n",
       "    </tr>\n",
       "    <tr>\n",
       "      <th>1098</th>\n",
       "      <td>T3S</td>\n",
       "      <td>0.0001</td>\n",
       "      <td>1024</td>\n",
       "      <td>1</td>\n",
       "      <td>lookup</td>\n",
       "      <td>1</td>\n",
       "      <td>1</td>\n",
       "      <td>0.0625</td>\n",
       "      <td>0.0</td>\n",
       "      <td>16.0</td>\n",
       "      <td>0.0</td>\n",
       "    </tr>\n",
       "    <tr>\n",
       "      <th>1655</th>\n",
       "      <td>TULHOR</td>\n",
       "      <td>0.0001</td>\n",
       "      <td>1024</td>\n",
       "      <td>1</td>\n",
       "      <td>lookup_sum</td>\n",
       "      <td>1</td>\n",
       "      <td>1</td>\n",
       "      <td>0.0625</td>\n",
       "      <td>0.0</td>\n",
       "      <td>16.0</td>\n",
       "      <td>0.0</td>\n",
       "    </tr>\n",
       "    <tr>\n",
       "      <th>1589</th>\n",
       "      <td>TULVAE</td>\n",
       "      <td>0.0002</td>\n",
       "      <td>1024</td>\n",
       "      <td>1</td>\n",
       "      <td>lookup</td>\n",
       "      <td>1</td>\n",
       "      <td>1</td>\n",
       "      <td>0.0625</td>\n",
       "      <td>0.0</td>\n",
       "      <td>0.0</td>\n",
       "      <td>0.0</td>\n",
       "    </tr>\n",
       "  </tbody>\n",
       "</table>\n",
       "</div>"
      ],
      "text/plain": [
       "     model_cls      lr  n_hidden  n_layers embedding_type  loc_levels  \\\n",
       "1348   BiTULER  0.0002      1024         1         lookup           1   \n",
       "214    DeepTUL  0.0002      1024         1         lookup           1   \n",
       "670    MainTUL  0.0002      1024         1         lookup           1   \n",
       "1098       T3S  0.0001      1024         1         lookup           1   \n",
       "1655    TULHOR  0.0001      1024         1     lookup_sum           1   \n",
       "1589    TULVAE  0.0002      1024         1         lookup           1   \n",
       "\n",
       "      time_levels  time_embedding_factor  dropout  n_heads  lambduh  \n",
       "1348            1                 0.0625      0.0      0.0      0.0  \n",
       "214             1                 0.0625      0.0      0.0      0.0  \n",
       "670             1                 0.0625      0.0     16.0      2.0  \n",
       "1098            1                 0.0625      0.0     16.0      0.0  \n",
       "1655            1                 0.0625      0.0     16.0      0.0  \n",
       "1589            1                 0.0625      0.0      0.0      0.0  "
      ]
     },
     "execution_count": 17,
     "metadata": {},
     "output_type": "execute_result"
    }
   ],
   "source": [
    "max_idcs = df.groupby(\"model_cls\")['top_1_accuracy'].idxmax()\n",
    "df.loc[max_idcs][hparams]"
   ]
  }
 ],
 "metadata": {
  "kernelspec": {
   "display_name": ".venv",
   "language": "python",
   "name": "python3"
  },
  "language_info": {
   "codemirror_mode": {
    "name": "ipython",
    "version": 3
   },
   "file_extension": ".py",
   "mimetype": "text/x-python",
   "name": "python",
   "nbconvert_exporter": "python",
   "pygments_lexer": "ipython3",
   "version": "3.12.7"
  }
 },
 "nbformat": 4,
 "nbformat_minor": 2
}
