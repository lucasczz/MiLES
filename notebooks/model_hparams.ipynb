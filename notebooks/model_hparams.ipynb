{
 "cells": [
  {
   "cell_type": "code",
   "execution_count": 14,
   "metadata": {},
   "outputs": [],
   "source": [
    "import pandas as pd\n",
    "from src.data.metrics import get_metrics"
   ]
  },
  {
   "cell_type": "code",
   "execution_count": 15,
   "metadata": {},
   "outputs": [],
   "source": [
    "hparams = [\n",
    "    \"model_cls\",\n",
    "    \"lr\",\n",
    "    \"n_hidden\",\n",
    "    \"n_layers\",\n",
    "    \"embedding_type\",\n",
    "    \"loc_levels\",\n",
    "    \"time_levels\",\n",
    "    \"time_embedding_factor\",\n",
    "    \"dropout\",\n",
    "    \"n_heads\",\n",
    "    \"lambduh\",\n",
    "]\n",
    "metrics = [\n",
    "    \"macro_f1\",\n",
    "    \"top_5_accuracy\",\n",
    "    \"top_1_accuracy\",\n",
    "]"
   ]
  },
  {
   "cell_type": "code",
   "execution_count": 16,
   "metadata": {},
   "outputs": [],
   "source": [
    "df = pd.read_json(\"../reports/hparam_grid.jsonl\", lines=True)\n",
    "get_metrics(df, metrics)"
   ]
  },
  {
   "cell_type": "code",
   "execution_count": 19,
   "metadata": {},
   "outputs": [
    {
     "data": {
      "text/plain": [
       "64"
      ]
     },
     "execution_count": 19,
     "metadata": {},
     "output_type": "execute_result"
    }
   ],
   "source": [
    "len(df[df['model_cls'] == 'TULVAE'])"
   ]
  },
  {
   "cell_type": "code",
   "execution_count": 9,
   "metadata": {},
   "outputs": [
    {
     "data": {
      "text/html": [
       "<div>\n",
       "<style scoped>\n",
       "    .dataframe tbody tr th:only-of-type {\n",
       "        vertical-align: middle;\n",
       "    }\n",
       "\n",
       "    .dataframe tbody tr th {\n",
       "        vertical-align: top;\n",
       "    }\n",
       "\n",
       "    .dataframe thead th {\n",
       "        text-align: right;\n",
       "    }\n",
       "</style>\n",
       "<table border=\"1\" class=\"dataframe\">\n",
       "  <thead>\n",
       "    <tr style=\"text-align: right;\">\n",
       "      <th></th>\n",
       "      <th>model_cls</th>\n",
       "      <th>lr</th>\n",
       "      <th>n_hidden</th>\n",
       "      <th>n_layers</th>\n",
       "      <th>embedding_type</th>\n",
       "      <th>loc_levels</th>\n",
       "      <th>time_levels</th>\n",
       "      <th>time_embedding_factor</th>\n",
       "      <th>dropout</th>\n",
       "      <th>n_heads</th>\n",
       "      <th>macro_f1</th>\n",
       "      <th>top_5_accuracy</th>\n",
       "      <th>top_1_accuracy</th>\n",
       "    </tr>\n",
       "  </thead>\n",
       "  <tbody>\n",
       "    <tr>\n",
       "      <th>62</th>\n",
       "      <td>TULHOR</td>\n",
       "      <td>0.0001</td>\n",
       "      <td>1024</td>\n",
       "      <td>1</td>\n",
       "      <td>lookup_sum</td>\n",
       "      <td>1</td>\n",
       "      <td>1</td>\n",
       "      <td>0.0625</td>\n",
       "      <td>0</td>\n",
       "      <td>16</td>\n",
       "      <td>0.417606</td>\n",
       "      <td>0.5832</td>\n",
       "      <td>0.4714</td>\n",
       "    </tr>\n",
       "  </tbody>\n",
       "</table>\n",
       "</div>"
      ],
      "text/plain": [
       "   model_cls      lr  n_hidden  n_layers embedding_type  loc_levels  \\\n",
       "62    TULHOR  0.0001      1024         1     lookup_sum           1   \n",
       "\n",
       "    time_levels  time_embedding_factor  dropout  n_heads  macro_f1  \\\n",
       "62            1                 0.0625        0       16  0.417606   \n",
       "\n",
       "    top_5_accuracy  top_1_accuracy  \n",
       "62          0.5832          0.4714  "
      ]
     },
     "execution_count": 9,
     "metadata": {},
     "output_type": "execute_result"
    }
   ],
   "source": [
    "max_idcs = df.groupby(\"model_cls\")['top_5_accuracy'].idxmax()\n",
    "df.loc[max_idcs][hparams+metrics]"
   ]
  }
 ],
 "metadata": {
  "kernelspec": {
   "display_name": ".venv",
   "language": "python",
   "name": "python3"
  },
  "language_info": {
   "codemirror_mode": {
    "name": "ipython",
    "version": 3
   },
   "file_extension": ".py",
   "mimetype": "text/x-python",
   "name": "python",
   "nbconvert_exporter": "python",
   "pygments_lexer": "ipython3",
   "version": "3.12.7"
  }
 },
 "nbformat": 4,
 "nbformat_minor": 2
}
