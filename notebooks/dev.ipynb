{
 "cells": [
  {
   "cell_type": "code",
   "execution_count": 1,
   "metadata": {},
   "outputs": [],
   "source": [
    "import torch\n",
    "import torch.nn as nn\n",
    "import torch.nn.functional as F\n",
    "from torch.nn.utils.rnn import pack_padded_sequence, pad_packed_sequence, pad_sequence\n",
    "from typing import List, Tuple\n",
    "\n",
    "from einops import rearrange"
   ]
  },
  {
   "cell_type": "code",
   "execution_count": 8,
   "metadata": {},
   "outputs": [],
   "source": [
    "N_USERS = 180\n",
    "N_LOCS = 1000\n",
    "BATCH_SIZE = 4\n",
    "N_EPOCHS = 10"
   ]
  },
  {
   "cell_type": "code",
   "execution_count": 3,
   "metadata": {},
   "outputs": [],
   "source": [
    "sizes_c = [12, 20, 32, 27]\n",
    "\n",
    "xc = [torch.randint(1, N_LOCS, (size,)) for size in sizes_c]\n",
    "tc = [torch.randint(0, 24, (size,)).sort()[0] for size in sizes_c]\n",
    "tcs = [\n",
    "    torch.randint(0, 100000, (size,), dtype=torch.float32).sort()[0]\n",
    "    for size in sizes_c\n",
    "]\n",
    "users = torch.randint(1, N_USERS, (BATCH_SIZE,))\n",
    "\n",
    "sizes_h = [124, 93, 107, 84]\n",
    "\n",
    "xh = [torch.randint(1, N_LOCS, (size,)) for size in sizes_h]\n",
    "th = [torch.randint(0, 24, (size,)).sort()[0] for size in sizes_h]\n",
    "ths = [\n",
    "    torch.randint(0, 100000, (size,), dtype=torch.float32).sort()[0]\n",
    "    for size in sizes_h\n",
    "]"
   ]
  },
  {
   "cell_type": "code",
   "execution_count": null,
   "metadata": {},
   "outputs": [],
   "source": [
    "from src.models.maintul import MainTUL\n",
    "\n",
    "model = MainTUL(N_LOCS, 24, N_USERS, n_layers_student=1)\n",
    "optim = torch.optim.Adam(model.parameters(), lr=)"
   ]
  },
  {
   "cell_type": "code",
   "execution_count": 12,
   "metadata": {},
   "outputs": [
    {
     "data": {
      "text/plain": [
       "[37.16259002685547,\n",
       " 37.21100616455078,\n",
       " 37.212135314941406,\n",
       " 37.22478485107422,\n",
       " 37.18277359008789,\n",
       " 37.118385314941406,\n",
       " 37.25999450683594,\n",
       " 37.26953887939453,\n",
       " 37.09429168701172,\n",
       " 37.145225524902344]"
      ]
     },
     "execution_count": 12,
     "metadata": {},
     "output_type": "execute_result"
    }
   ],
   "source": [
    "losses=  []\n",
    "for epoch in range(N_EPOCHS):\n",
    "    loss = model.train_step(xc, tc, tcs, xh, th, ths, users)\n",
    "    loss.backward() \n",
    "    optim.zero_grad()\n",
    "    optim.step()\n",
    "    losses.append(loss.detach().item())\n",
    "losses\n"
   ]
  }
 ],
 "metadata": {
  "kernelspec": {
   "display_name": "trajectory-forecasting-5JvcWmIU",
   "language": "python",
   "name": "python3"
  },
  "language_info": {
   "codemirror_mode": {
    "name": "ipython",
    "version": 3
   },
   "file_extension": ".py",
   "mimetype": "text/x-python",
   "name": "python",
   "nbconvert_exporter": "python",
   "pygments_lexer": "ipython3",
   "version": "3.10.12"
  }
 },
 "nbformat": 4,
 "nbformat_minor": 2
}
